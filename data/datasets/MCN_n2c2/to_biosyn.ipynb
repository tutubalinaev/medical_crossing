{
 "cells": [
  {
   "cell_type": "markdown",
   "metadata": {},
   "source": [
    "#### Create Train and Test Folders"
   ]
  },
  {
   "cell_type": "code",
   "execution_count": 2,
   "metadata": {},
   "outputs": [
    {
     "name": "stdout",
     "output_type": "stream",
     "text": [
      "BC2GN\t\t\tbc5cdr-disease.tar.gz  tac2017adr\n",
      "MCN-disease\t\tdictionary\t       trials-cancer-intervention\n",
      "bc5cdr-chemical\t\tncbi-disease\t       trials-disease\n",
      "bc5cdr-chemical.tar.gz\tncbi-disease.tar.gz    trials-intervention\n",
      "bc5cdr-disease\t\traw\n"
     ]
    }
   ],
   "source": [
    "!ls /home/etutubalina/BioSyn/datasets/"
   ]
  },
  {
   "cell_type": "code",
   "execution_count": 15,
   "metadata": {},
   "outputs": [],
   "source": [
    "def process(file_ent, file_labels, save_to):\n",
    "    with open(file_ent, encoding='utf-8') as input_stream:\n",
    "        entities = input_stream.readlines()\n",
    "    with open(file_labels, encoding='utf-8') as input_stream:\n",
    "        labels = input_stream.readlines()\n",
    "    with open(save_to+\"0.concept\",\"w+\") as fout:\n",
    "        for concept,cui in zip(entities,labels):\n",
    "            concept = concept.strip()\n",
    "            cui = cui.strip()\n",
    "            fout.write('0||0|{}||Entity||{}||{}\\n'.format(len(concept),concept,cui))"
   ]
  },
  {
   "cell_type": "code",
   "execution_count": 16,
   "metadata": {},
   "outputs": [],
   "source": [
    "process(\"processed/train_med_entities.txt\",\n",
    "        \"processed/train_labels.txt\",\n",
    "        \"/home/etutubalina/BioSyn/datasets/MCN/train/\")"
   ]
  },
  {
   "cell_type": "code",
   "execution_count": 17,
   "metadata": {},
   "outputs": [],
   "source": [
    "process(\"processed/test_med_entities.txt\",\n",
    "        \"processed/test_labels.txt\",\n",
    "        \"/home/etutubalina/BioSyn/datasets/MCN/test/\")"
   ]
  },
  {
   "cell_type": "code",
   "execution_count": null,
   "metadata": {},
   "outputs": [],
   "source": [
    "/home/etutubalina/BioSyn/datasets/ncbi-disease/processed_test_wtht_train_dupl/\n",
    "DATA/medical_processing_corpora/MCN_n2c2/processed/test_labels.txt"
   ]
  },
  {
   "cell_type": "markdown",
   "metadata": {},
   "source": [
    "#### Create Test Wtht Duplicates"
   ]
  },
  {
   "cell_type": "code",
   "execution_count": 22,
   "metadata": {},
   "outputs": [
    {
     "name": "stderr",
     "output_type": "stream",
     "text": [
      "100%|██████████| 50/50 [00:00<00:00, 5234.90it/s]\n",
      "0it [00:00, ?it/s]\n",
      "100%|██████████| 3783/3783 [00:00<00:00, 565347.82it/s]"
     ]
    },
    {
     "name": "stdout",
     "output_type": "stream",
     "text": [
      "6925\n",
      "3783\n",
      "0\n",
      "0\n",
      "3783\n",
      "2579\n"
     ]
    },
    {
     "name": "stderr",
     "output_type": "stream",
     "text": [
      "\n"
     ]
    }
   ],
   "source": [
    "import glob\n",
    "from tqdm import tqdm\n",
    "from itertools import chain\n",
    "files = glob.glob(\"/home/etutubalina/BioSyn/datasets/MCN/processed_test/*.concept\")\n",
    "data = []\n",
    "for concept_file in tqdm(files):\n",
    "    with open(concept_file, \"r\", encoding='utf-8') as f:\n",
    "        concepts = f.readlines()\n",
    "    for concept in concepts:\n",
    "        c = concept.split(\"||\")\n",
    "        mention = c[3].strip()\n",
    "        cui = c[4].strip()\n",
    "        data.append((mention,cui))\n",
    "print(len(data))  \n",
    "data = list(dict.fromkeys(data))\n",
    "print(len(data))  \n",
    "#print(data)\n",
    "# with open(\"/home/etutubalina/BioSyn/datasets/ncbi-disease/processed_test_wtht_dupl/0.concept\",\"w+\") as fout:\n",
    "#     for concept,cui in tqdm(data):\n",
    "#         fout.write('0||0|{}||Disease||{}||{}\\n'.format(len(concept),concept,cui))\n",
    "\n",
    "                    \n",
    "files = glob.glob(\"/home/etutubalina/BioSyn/datasets/MCN/processed_train/*.concept\")\n",
    "train_data = []\n",
    "for concept_file in tqdm(files):\n",
    "    with open(concept_file, \"r\", encoding='utf-8') as f:\n",
    "        concepts = f.readlines()\n",
    "    for concept in concepts:\n",
    "        c = concept.split(\"||\")\n",
    "        mention = c[3].strip()\n",
    "        cui = c[4].strip()\n",
    "        train_data.append((mention,cui))\n",
    "print(len(train_data))  \n",
    "train_data = list(dict.fromkeys(train_data))\n",
    "print(len(train_data))  \n",
    "data = list([x for x,y in dict.fromkeys(data).items() if x not in dict.fromkeys(train_data)])\n",
    "print(len(data))  \n",
    "\n",
    "test_ids = [x for x in set(chain(*[y.replace(\"+\",\"|\").split('|') for x,y in data]))]\n",
    "train_ids = [x for x in set(chain(*[y.replace(\"+\",\"|\").split('|') for x,y in train_data]))]\n",
    "\n",
    "print(len(set(set(test_ids).union(set(train_ids)))))\n",
    "#print(set(set(test_ids).union(set(train_ids))))\n",
    "with open(\"/home/etutubalina/BioSyn/datasets/MCN/processed_test_wtht_train_dupl/snomed.concept\",\"w+\") as fout:\n",
    "    for concept,cui in tqdm(data):\n",
    "        fout.write('0||0|{}||Entity||{}||{}\\n'.format(len(concept),concept,cui))\n",
    "with open(\"/home/etutubalina/BioSyn/datasets/MCN/processed_test_wtht_train_dupl/rxnorm.concept\",\"w+\") as fout:\n",
    "    for concept,cui in tqdm(data):\n",
    "        fout.write('0||0|{}||Entity||{}||{}\\n'.format(len(concept),concept,cui))"
   ]
  },
  {
   "cell_type": "markdown",
   "metadata": {},
   "source": [
    "#### Create Vocab for BioSyn"
   ]
  },
  {
   "cell_type": "code",
   "execution_count": 23,
   "metadata": {},
   "outputs": [],
   "source": [
    "import pandas as pd"
   ]
  },
  {
   "cell_type": "code",
   "execution_count": 26,
   "metadata": {},
   "outputs": [],
   "source": [
    "df_rxnorm=pd.read_csv(\"/home/etutubalina/DATA/UMLS/UMLS2019AB/UMLS_RXNORM.txt\",names=['CUI','t'],sep='\\t')"
   ]
  },
  {
   "cell_type": "code",
   "execution_count": 27,
   "metadata": {},
   "outputs": [
    {
     "data": {
      "text/html": [
       "<div>\n",
       "<style scoped>\n",
       "    .dataframe tbody tr th:only-of-type {\n",
       "        vertical-align: middle;\n",
       "    }\n",
       "\n",
       "    .dataframe tbody tr th {\n",
       "        vertical-align: top;\n",
       "    }\n",
       "\n",
       "    .dataframe thead th {\n",
       "        text-align: right;\n",
       "    }\n",
       "</style>\n",
       "<table border=\"1\" class=\"dataframe\">\n",
       "  <thead>\n",
       "    <tr style=\"text-align: right;\">\n",
       "      <th></th>\n",
       "      <th>CUI</th>\n",
       "      <th>t</th>\n",
       "    </tr>\n",
       "  </thead>\n",
       "  <tbody>\n",
       "    <tr>\n",
       "      <th>0</th>\n",
       "      <td>C0000039</td>\n",
       "      <td>1,2-dipalmitoylphosphatidylcholine</td>\n",
       "    </tr>\n",
       "    <tr>\n",
       "      <th>1</th>\n",
       "      <td>C0000266</td>\n",
       "      <td>Parlodel</td>\n",
       "    </tr>\n",
       "    <tr>\n",
       "      <th>2</th>\n",
       "      <td>C0000294</td>\n",
       "      <td>Mesna</td>\n",
       "    </tr>\n",
       "    <tr>\n",
       "      <th>3</th>\n",
       "      <td>C0000378</td>\n",
       "      <td>Droxidopa</td>\n",
       "    </tr>\n",
       "    <tr>\n",
       "      <th>4</th>\n",
       "      <td>C0000392</td>\n",
       "      <td>beta-Alanine</td>\n",
       "    </tr>\n",
       "  </tbody>\n",
       "</table>\n",
       "</div>"
      ],
      "text/plain": [
       "        CUI                                   t\n",
       "0  C0000039  1,2-dipalmitoylphosphatidylcholine\n",
       "1  C0000266                            Parlodel\n",
       "2  C0000294                               Mesna\n",
       "3  C0000378                           Droxidopa\n",
       "4  C0000392                        beta-Alanine"
      ]
     },
     "execution_count": 27,
     "metadata": {},
     "output_type": "execute_result"
    }
   ],
   "source": [
    "df_rxnorm.head()"
   ]
  },
  {
   "cell_type": "code",
   "execution_count": 28,
   "metadata": {},
   "outputs": [],
   "source": [
    "df_snm=pd.read_csv(\"/home/etutubalina/DATA/UMLS/UMLS2019AB/UMLS_SNOMEDCT_US.txt\",names=['CUI','t'],sep='\\t')"
   ]
  },
  {
   "cell_type": "code",
   "execution_count": 29,
   "metadata": {},
   "outputs": [
    {
     "data": {
      "text/html": [
       "<div>\n",
       "<style scoped>\n",
       "    .dataframe tbody tr th:only-of-type {\n",
       "        vertical-align: middle;\n",
       "    }\n",
       "\n",
       "    .dataframe tbody tr th {\n",
       "        vertical-align: top;\n",
       "    }\n",
       "\n",
       "    .dataframe thead th {\n",
       "        text-align: right;\n",
       "    }\n",
       "</style>\n",
       "<table border=\"1\" class=\"dataframe\">\n",
       "  <thead>\n",
       "    <tr style=\"text-align: right;\">\n",
       "      <th></th>\n",
       "      <th>CUI</th>\n",
       "      <th>t</th>\n",
       "    </tr>\n",
       "  </thead>\n",
       "  <tbody>\n",
       "    <tr>\n",
       "      <th>0</th>\n",
       "      <td>C0000039</td>\n",
       "      <td>Dipalmitoylphosphatidylcholine</td>\n",
       "    </tr>\n",
       "    <tr>\n",
       "      <th>1</th>\n",
       "      <td>C0000039</td>\n",
       "      <td>Dipalmitoylphosphatidylcholine (substance)</td>\n",
       "    </tr>\n",
       "    <tr>\n",
       "      <th>2</th>\n",
       "      <td>C0000052</td>\n",
       "      <td>1,4-alpha-Glucan branching enzyme</td>\n",
       "    </tr>\n",
       "    <tr>\n",
       "      <th>3</th>\n",
       "      <td>C0000052</td>\n",
       "      <td>Branching enzyme</td>\n",
       "    </tr>\n",
       "    <tr>\n",
       "      <th>4</th>\n",
       "      <td>C0000052</td>\n",
       "      <td>Amylo-(1,4,6)-transglycosylase</td>\n",
       "    </tr>\n",
       "  </tbody>\n",
       "</table>\n",
       "</div>"
      ],
      "text/plain": [
       "        CUI                                           t\n",
       "0  C0000039              Dipalmitoylphosphatidylcholine\n",
       "1  C0000039  Dipalmitoylphosphatidylcholine (substance)\n",
       "2  C0000052           1,4-alpha-Glucan branching enzyme\n",
       "3  C0000052                            Branching enzyme\n",
       "4  C0000052              Amylo-(1,4,6)-transglycosylase"
      ]
     },
     "execution_count": 29,
     "metadata": {},
     "output_type": "execute_result"
    }
   ],
   "source": [
    "df_snm.head()"
   ]
  },
  {
   "cell_type": "code",
   "execution_count": 31,
   "metadata": {},
   "outputs": [
    {
     "data": {
      "text/plain": [
       "['C3232296', 'C0117857', 'CUI-less', 'C0553982', 'C1827170']"
      ]
     },
     "execution_count": 31,
     "metadata": {},
     "output_type": "execute_result"
    }
   ],
   "source": [
    "[x for x in test_ids if x not in df_rxnorm.CUI.tolist() and x not in df_snm.CUI.tolist()]"
   ]
  },
  {
   "cell_type": "code",
   "execution_count": 42,
   "metadata": {},
   "outputs": [],
   "source": [
    "snm_test_id = [x for x in test_ids if x in df_snm.CUI.tolist() and x not in df_rxnorm.CUI.tolist()]"
   ]
  },
  {
   "cell_type": "code",
   "execution_count": 43,
   "metadata": {},
   "outputs": [],
   "source": [
    "rxnorm_test_id = [x for x in test_ids if x in df_rxnorm.CUI.tolist()] "
   ]
  },
  {
   "cell_type": "code",
   "execution_count": 44,
   "metadata": {},
   "outputs": [
    {
     "name": "stdout",
     "output_type": "stream",
     "text": [
      "0\n"
     ]
    }
   ],
   "source": [
    "print(len(set(set(snm_test_id).intersection(set(rxnorm_test_id)))))"
   ]
  },
  {
   "cell_type": "code",
   "execution_count": null,
   "metadata": {},
   "outputs": [],
   "source": [
    "set(set(snm_test_id).intersection(set(rxnorm_test_id)))"
   ]
  },
  {
   "cell_type": "code",
   "execution_count": 32,
   "metadata": {},
   "outputs": [
    {
     "data": {
      "text/plain": [
       "[]"
      ]
     },
     "execution_count": 32,
     "metadata": {},
     "output_type": "execute_result"
    }
   ],
   "source": [
    "[x for x in train_ids if x not in df_rxnorm.CUI.tolist() and x not in df_snm.CUI.tolist()]"
   ]
  },
  {
   "cell_type": "code",
   "execution_count": 33,
   "metadata": {},
   "outputs": [],
   "source": [
    "df_all = pd.concat([df_rxnorm,df_snm])"
   ]
  },
  {
   "cell_type": "code",
   "execution_count": 36,
   "metadata": {},
   "outputs": [],
   "source": [
    "def create_dictionary(df_current,save_to):\n",
    "    with open(save_to,\"w+\") as fout:\n",
    "    for e,group in df_current.groupby(\"t\"):\n",
    "        ids = '|'.join(group.CUI.unique().tolist())\n",
    "        name = e.lower()\n",
    "        fout.write(f'{ids}||{name}\\n')\n",
    "\n",
    "save_to='/home/etutubalina/BioSyn/datasets/MCN/test_dictionary.txt'\n",
    "create_dictionary(save_to,df_all)\n",
    "\n",
    "save_to='/home/etutubalina/BioSyn/datasets/MCN-disease/test_dictionary.txt'\n",
    "create_dictionary(save_to,df_snmnm)\n",
    "\n",
    "save_to='/home/etutubalina/BioSyn/datasets/MCN-chemical/test_dictionary.txt'\n",
    "create_dictionary(save_to,df_rxnorm)"
   ]
  },
  {
   "cell_type": "code",
   "execution_count": 45,
   "metadata": {},
   "outputs": [],
   "source": [
    "save_to='/home/etutubalina/BioSyn/datasets/MCN-disease/test_dictionary.txt'\n",
    "with open(save_to,\"w+\") as fout:\n",
    "    for e,group in df_all.groupby(\"t\"):\n",
    "        ids = '|'.join(group.CUI.unique().tolist())\n",
    "        name = e.lower()\n",
    "        fout.write(f'{ids}||{name}\\n')"
   ]
  },
  {
   "cell_type": "code",
   "execution_count": 46,
   "metadata": {},
   "outputs": [],
   "source": [
    "save_to='/home/etutubalina/BioSyn/datasets/MCN-chemical/test_dictionary.txt'\n",
    "with open(save_to,\"w+\") as fout:\n",
    "    for e,group in df_rxnorm.groupby(\"t\"):\n",
    "        ids = '|'.join(group.CUI.unique().tolist())\n",
    "        name = e.lower()\n",
    "        fout.write(f'{ids}||{name}\\n')"
   ]
  },
  {
   "cell_type": "code",
   "execution_count": 50,
   "metadata": {},
   "outputs": [
    {
     "name": "stderr",
     "output_type": "stream",
     "text": [
      "100%|██████████| 50/50 [00:00<00:00, 220.36it/s]\n",
      "100%|██████████| 1/1 [00:00<00:00, 157.43it/s]\n",
      "100%|██████████| 50/50 [00:00<00:00, 2336.58it/s]\n",
      "100%|██████████| 1/1 [00:00<00:00, 238.38it/s]\n"
     ]
    }
   ],
   "source": [
    "import os\n",
    "def filter_set(path_to,save_to, list_in=[], list_out=[]):\n",
    "    train_data = []\n",
    "    list_in = set(list_in)\n",
    "    list_out = set(list_out)\n",
    "    for concept_file in tqdm(files):\n",
    "        with open(concept_file, \"r\", encoding='utf-8') as f:\n",
    "            concepts = f.readlines()\n",
    "        with open(save_to+os.path.basename(concept_file), \"w\", encoding='utf-8') as f:    \n",
    "            for concept in concepts:\n",
    "                c = concept.split(\"||\")\n",
    "                cui = c[4].strip()\n",
    "                if cui in list_in and cui not in list_out:\n",
    "                    f.write(concept)\n",
    "\n",
    "files = glob.glob(\"/home/etutubalina/BioSyn/datasets/MCN/processed_train/*.concept\")\n",
    "save_to = \"/home/etutubalina/BioSyn/datasets/MCN-disease/processed_train/\"\n",
    "filter_set(files,save_to,df_snm.CUI.tolist(),df_rxnorm.CUI.tolist())\n",
    "\n",
    "files = glob.glob(\"/home/etutubalina/BioSyn/datasets/MCN/processed_test_wtht_train_dupl/*.concept\")\n",
    "save_to = \"/home/etutubalina/BioSyn/datasets/MCN-disease/processed_test_wtht_train_dupl/\"\n",
    "filter_set(files,save_to,df_snm.CUI.tolist(),df_rxnorm.CUI.tolist())\n",
    "\n",
    "files = glob.glob(\"/home/etutubalina/BioSyn/datasets/MCN/processed_train/*.concept\")\n",
    "save_to = \"/home/etutubalina/BioSyn/datasets/MCN-chemical/processed_train/\"\n",
    "filter_set(files,save_to,df_rxnorm.CUI.tolist(),[])\n",
    "\n",
    "files = glob.glob(\"/home/etutubalina/BioSyn/datasets/MCN/processed_test_wtht_train_dupl/*.concept\")\n",
    "save_to = \"/home/etutubalina/BioSyn/datasets/MCN-chemical/processed_test_wtht_train_dupl/\"\n",
    "filter_set(files,save_to,df_rxnorm.CUI.tolist(),[])"
   ]
  },
  {
   "cell_type": "code",
   "execution_count": null,
   "metadata": {},
   "outputs": [],
   "source": []
  }
 ],
 "metadata": {
  "kernelspec": {
   "display_name": "Python 3",
   "language": "python",
   "name": "python3"
  },
  "language_info": {
   "codemirror_mode": {
    "name": "ipython",
    "version": 3
   },
   "file_extension": ".py",
   "mimetype": "text/x-python",
   "name": "python",
   "nbconvert_exporter": "python",
   "pygments_lexer": "ipython3",
   "version": "3.8.2"
  }
 },
 "nbformat": 4,
 "nbformat_minor": 4
}
